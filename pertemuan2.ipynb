{
 "cells": [
  {
   "cell_type": "markdown",
   "metadata": {},
   "source": [
    "nama=\"Budi\"\n",
    "umur=19\n",
    "ipk=3.6\n",
    "nilai=[]\n",
    "\n",
    "\n",
    "print[nama, type[nama]]\n",
    "print[umur,type]"
   ]
  },
  {
   "cell_type": "code",
   "execution_count": 1,
   "metadata": {},
   "outputs": [],
   "source": [
    "a=int(input(\"a adalah \"))\n",
    "b=(input(\"b adalah \"))\n",
    "\n",
    "penjumlahan = a + b\n",
    "pengurangan = a - b\n",
    "perkaliaan = a * b\n",
    "pembagian= a / b\n",
    "modulus = a % b\n",
    "\n",
    "print(\"a+b= \",penjumlahan)\n",
    "print(\"a-b= \",pengurangan)\n",
    "print(\"a*b= \",perkalian)\n",
    "print(\"a/b= \",pembagian)\n",
    "print(\"a%b= \",modulus)"
   ]
  },
  {
   "cell_type": "code",
   "execution_count": null,
   "metadata": {},
   "outputs": [],
   "source": [
    "a = 2\n",
    "b = 1\n",
    "c = 5\n",
    "\n",
    "print((a > b) and (c > b))\n",
    "print((a > b) or (c > b))\n",
    "print(not(b>b))"
   ]
  },
  {
   "cell_type": "code",
   "execution_count": null,
   "metadata": {},
   "outputs": [
    {
     "name": "stdout",
     "output_type": "stream",
     "text": [
      "panjang = 6\n",
      "lebar = 4\n",
      "Luas persegi panjang = 24\n"
     ]
    }
   ],
   "source": [
    "# Input\n",
    "p = int(input(\"panjang = \"))\n",
    "l = int(input(\"lebar = \"))\n",
    "\n",
    "# Proses menghitung luas persegi panjang\n",
    "luas = (p) * (l)\n",
    "\n",
    "# output luas persegi panjang\n",
    "print(\"panjang =\", p)\n",
    "print(\"lebar =\", l)\n",
    "print(\"Luas persegi panjang = %.i\" %(luas))"
   ]
  }
 ],
 "metadata": {
  "kernelspec": {
   "display_name": "Python 3",
   "language": "python",
   "name": "python3"
  },
  "language_info": {
   "codemirror_mode": {
    "name": "ipython",
    "version": 3
   },
   "file_extension": ".py",
   "mimetype": "text/x-python",
   "name": "python",
   "nbconvert_exporter": "python",
   "pygments_lexer": "ipython3",
   "version": "3.12.2"
  }
 },
 "nbformat": 4,
 "nbformat_minor": 2
}
