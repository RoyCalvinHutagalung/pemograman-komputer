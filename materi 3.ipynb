{
 "cells": [
  {
   "cell_type": "markdown",
   "metadata": {},
   "source": [
    "## Contoh Input Integer "
   ]
  },
  {
   "cell_type": "code",
   "execution_count": 1,
   "metadata": {},
   "outputs": [
    {
     "name": "stdout",
     "output_type": "stream",
     "text": [
      "Halo, Roy\n",
      "Umur Anda: 19\n",
      " IPK Anda:  3.0\n"
     ]
    }
   ],
   "source": [
    " # Contoh Input String \n",
    " nama = input(\"Masukkan nama Anda: \")\n",
    " print(\"Halo,\", nama)\n",
    "\n",
    " # Contoh Input Integer\n",
    " umur = int(input(\"Masukkan umur bulat: \"))\n",
    " print(\"Umur Anda:\", umur)\n",
    "\n",
    " # Contoh Input Float\n",
    " ipk = float(input(\"Masukkan bilangan ipk: \"))\n",
    " print(\" IPK Anda: \", ipk)\n"
   ]
  },
  {
   "cell_type": "code",
   "execution_count": 2,
   "metadata": {},
   "outputs": [
    {
     "name": "stdout",
     "output_type": "stream",
     "text": [
      "Hallo Roy umur anda: 19 IPK anda: 3.0\n",
      "HalloRoy, Umur anda: 19 IPK anda: 3.0\n",
      "Hallo Roy, Umur anda: 19, IPK anda: 3.0\n",
      "Hallo Roy, Umur anda: 19,IPK anda: 3.0\n"
     ]
    }
   ],
   "source": [
    "print(\"Hallo\", nama, \"umur anda:\", umur, \"IPK anda:\", ipk)\n",
    "print(\"Hallo\"+ nama+ \", Umur anda:\", umur, \"IPK anda:\", ipk)\n",
    "print(\"Hallo %s, Umur anda: %i, IPK anda: %.1f\" % (nama, umur, ipk))\n",
    "print(f\"Hallo {nama}, Umur anda: {umur},IPK anda: {ipk}\")     "
   ]
  },
  {
   "cell_type": "markdown",
   "metadata": {},
   "source": [
    "## CONTOH INPUT YANG DIPISAHKAN SPASI"
   ]
  },
  {
   "cell_type": "code",
   "execution_count": 24,
   "metadata": {},
   "outputs": [
    {
     "name": "stdout",
     "output_type": "stream",
     "text": [
      "Bilangan pertama: 8\n",
      "Bilangan kedua: 9\n"
     ]
    }
   ],
   "source": [
    "bill = input(\"Masukkan dua bilangan bulat dipisahkan oleh spasi: \" )\n",
    "# Membagi variable bil menjadi variable bil1 dan bill2\n",
    "bil1, bil2 = map(int, bill.split())\n",
    "print(\"Bilangan pertama:\", bil1)\n",
    "print(\"Bilangan kedua:\", bil2)"
   ]
  },
  {
   "cell_type": "markdown",
   "metadata": {},
   "source": [
    "## STRUKTUR RUNTUNAN "
   ]
  },
  {
   "cell_type": "code",
   "execution_count": 26,
   "metadata": {},
   "outputs": [
    {
     "name": "stdout",
     "output_type": "stream",
     "text": [
      "Pi = 3.14\n",
      "jari-jari = 9\n",
      "Luas lingkaran = 254.57\n"
     ]
    }
   ],
   "source": [
    "# Input\n",
    "pi = 22/7\n",
    "r = int(input(\"jari-jari = \"))\n",
    "\n",
    "# Proses menghitung luas lingkaran\n",
    "luas = pi * r * r\n",
    "\n",
    "# output luas lingkaran\n",
    "print(\"Pi = %.2f\" %pi)\n",
    "print(\"jari-jari =\", r)\n",
    "print(\"Luas lingkaran = %.2f\" %(luas))"
   ]
  },
  {
   "cell_type": "code",
   "execution_count": 27,
   "metadata": {},
   "outputs": [
    {
     "name": "stdout",
     "output_type": "stream",
     "text": [
      "Pi = 3.14\n",
      "jari-jari =  9\n",
      "keliling lingkaran = 56.57\n"
     ]
    }
   ],
   "source": [
    "# Proses menghitung keliling lingkaran\n",
    "keliling = 2 * pi * r \n",
    "\n",
    "# output keliling lingkaran\n",
    "print(\"Pi = %.2f\" %pi)\n",
    "print(\"jari-jari = \", r)\n",
    "print(\"keliling lingkaran = %.2f\" %(keliling))"
   ]
  },
  {
   "cell_type": "markdown",
   "metadata": {},
   "source": [
    "mendeklarasikan variable ''"
   ]
  }
 ],
 "metadata": {
  "kernelspec": {
   "display_name": "Python 3",
   "language": "python",
   "name": "python3"
  },
  "language_info": {
   "codemirror_mode": {
    "name": "ipython",
    "version": 3
   },
   "file_extension": ".py",
   "mimetype": "text/x-python",
   "name": "python",
   "nbconvert_exporter": "python",
   "pygments_lexer": "ipython3",
   "version": "3.12.2"
  }
 },
 "nbformat": 4,
 "nbformat_minor": 2
}
