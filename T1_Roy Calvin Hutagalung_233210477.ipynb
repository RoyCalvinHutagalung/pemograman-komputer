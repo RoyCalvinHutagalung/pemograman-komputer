{
 "cells": [
  {
   "cell_type": "markdown",
   "metadata": {},
   "source": [
    "## TUGAS PRAKTIKUM PEMOGRAMAN KOMPUTER 1"
   ]
  },
  {
   "cell_type": "code",
   "execution_count": 1,
   "metadata": {},
   "outputs": [
    {
     "name": "stdout",
     "output_type": "stream",
     "text": [
      "panjang print= 6\n",
      "lebar = 4\n",
      "luas persegi panjang = 24\n"
     ]
    }
   ],
   "source": [
    "# Input\n",
    "p = int(input(\"panjang = \"))\n",
    "l = int(input(\"lebar = \"))\n",
    "\n",
    "# Proses menghitung luas persegi panjang\n",
    "luas = (p) * (l)\n",
    "\n",
    "# output luas persegi panjang\n",
    "print(\"panjang print=\", p)\n",
    "print(\"lebar =\", l)\n",
    "print(\"luas persegi panjang = %i\" %(luas))"
   ]
  },
  {
   "cell_type": "code",
   "execution_count": 11,
   "metadata": {},
   "outputs": [
    {
     "name": "stdout",
     "output_type": "stream",
     "text": [
      "panjanng =  6\n",
      "lebar =  4\n",
      "keliling persegi panjang = 20\n"
     ]
    }
   ],
   "source": [
    "# Proses menghitung keliling persegi panjang\n",
    "keliling = 2 * (p + l)\n",
    "\n",
    "# output keliling lingkaran\n",
    "print(\"panjanng = \", p)\n",
    "print(\"lebar = \", l)\n",
    "print(\"keliling persegi panjang = %.f\" %(keliling))"
   ]
  },
  {
   "cell_type": "markdown",
   "metadata": {},
   "source": [
    "## Mendeklarasikan variable 'p' dan 'l' yang di gunakan unntuk menyimpan inputan dari user, dengan tipe data integer. Mendeklarasikan variable 'luas' yang di gunakan untuk menghitung luas persegi panjang.'print 'print(\"panjang print=\", p)'digunakan untuk menampilkan nilai atau isi dari variable 'p'.'print(\"lebar =\", l)' digunakan untuk menampilkan nilai atau isi dari variable 'l'. 'print(\"luas persegi panjang = %i\" %(luas))' digunakan untuk menampilkan nilai atau isi dari variable luas, dan '%i' digunakan untuk menampilkan bilangan satuan, jika ada bilangan di belakang (,) menggunakan '%2i'."
   ]
  },
  {
   "cell_type": "markdown",
   "metadata": {},
   "source": []
  }
 ],
 "metadata": {
  "kernelspec": {
   "display_name": "Python 3",
   "language": "python",
   "name": "python3"
  },
  "language_info": {
   "codemirror_mode": {
    "name": "ipython",
    "version": 3
   },
   "file_extension": ".py",
   "mimetype": "text/x-python",
   "name": "python",
   "nbconvert_exporter": "python",
   "pygments_lexer": "ipython3",
   "version": "3.12.2"
  }
 },
 "nbformat": 4,
 "nbformat_minor": 2
}
