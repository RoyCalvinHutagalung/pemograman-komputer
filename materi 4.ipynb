{
 "cells": [
  {
   "cell_type": "markdown",
   "metadata": {},
   "source": [
    "## konstruksi IF THEN"
   ]
  },
  {
   "cell_type": "code",
   "execution_count": null,
   "metadata": {},
   "outputs": [],
   "source": [
    "angka = int(input(\"masukkan angka\"))\n",
    "\n",
    "if angka % 2 == 0:\n",
    "    print(f\"(angka) adalah bilangan GENAP\")"
   ]
  },
  {
   "cell_type": "markdown",
   "metadata": {},
   "source": [
    "## KONTRUKSI IF THEN ELSE"
   ]
  },
  {
   "cell_type": "code",
   "execution_count": 4,
   "metadata": {},
   "outputs": [
    {
     "name": "stdout",
     "output_type": "stream",
     "text": [
      "(tahun) adalah tahun kabisat\n"
     ]
    }
   ],
   "source": [
    "tahun = int(input(\"maasukkan tahun\"))\n",
    "\n",
    "if (tahun % 4 == 0 and tahun % 100 != 0) or (tahun % 400 == 0):\n",
    "    print(f\"(tahun) adalah tahun kabisat\")\n",
    "else:\n",
    "    print(f\"(tahun) bukan tahun kabisat\")"
   ]
  },
  {
   "cell_type": "markdown",
   "metadata": {},
   "source": [
    "## MATCH CASE"
   ]
  },
  {
   "cell_type": "code",
   "execution_count": 13,
   "metadata": {},
   "outputs": [
    {
     "name": "stdout",
     "output_type": "stream",
     "text": [
      "(tahun) adalah tahun kabisat\n"
     ]
    }
   ],
   "source": [
    "match tahun:\n",
    "    case int if (tahun % 4 == 0 and tahun % 100 != 0) | (tahun % 400 == 0):\n",
    "       print(f\"(tahun) adalah tahun kabisat\")\n",
    "    case _:\n",
    "        print(f\"(tahun) bukan tahun kabisat\")\n",
    "       \n"
   ]
  },
  {
   "cell_type": "code",
   "execution_count": 20,
   "metadata": {},
   "outputs": [
    {
     "ename": "TypeError",
     "evalue": "'int' object is not callable",
     "output_type": "error",
     "traceback": [
      "\u001b[1;31m---------------------------------------------------------------------------\u001b[0m",
      "\u001b[1;31mTypeError\u001b[0m                                 Traceback (most recent call last)",
      "Cell \u001b[1;32mIn[20], line 1\u001b[0m\n\u001b[1;32m----> 1\u001b[0m bil1 \u001b[38;5;241m=\u001b[39m \u001b[38;5;28;43mint\u001b[39;49m\u001b[43m(\u001b[49m\u001b[38;5;28;43minput\u001b[39;49m\u001b[43m(\u001b[49m\u001b[38;5;124;43m\"\u001b[39;49m\u001b[38;5;124;43mmasukkan angka ke 1\u001b[39;49m\u001b[38;5;124;43m\"\u001b[39;49m\u001b[43m)\u001b[49m\u001b[43m)\u001b[49m\n\u001b[0;32m      2\u001b[0m bil2 \u001b[38;5;241m=\u001b[39m \u001b[38;5;28mint\u001b[39m(\u001b[38;5;28minput\u001b[39m(\u001b[38;5;124m\"\u001b[39m\u001b[38;5;124mmasukkan angka ke 2\u001b[39m\u001b[38;5;124m\"\u001b[39m))\n\u001b[0;32m      3\u001b[0m operator \u001b[38;5;241m=\u001b[39m \u001b[38;5;28minput\u001b[39m(\u001b[38;5;124m\"\u001b[39m\u001b[38;5;124mmasukkan operasi yang di inginkan (+, -, *, /)\u001b[39m\u001b[38;5;124m\"\u001b[39m)\n",
      "\u001b[1;31mTypeError\u001b[0m: 'int' object is not callable"
     ]
    }
   ],
   "source": [
    "bil1 = int(input(\"masukkan angka ke 1\"))\n",
    "bil2 = int(input(\"masukkan angka ke 2\"))\n",
    "operator = input(\"masukkan operasi yang di inginkan (+, -, *, /)\")\n",
    "\n",
    "if operator == \"+\":\n",
    "    hasil = bil1 + bil2\n",
    "    print(f\"{bil1} + {bil2} = {hasil}\")\n",
    "elif operator == \"-\":\n",
    "    hasil = bil1 - bil2\n",
    "    print(f\"{bil1}  - {bil2} = {hasil}\")\n",
    "elif operator == \"*\":\n",
    "    hasil = bil1 * bil2\n",
    "    print(f\"{bil1} * {bil2} = {hasil}\")\n",
    "elif operator == \"/\":\n",
    "    hasil = bil1 / bil2\n",
    "    print(f\"{bil1} / {bil2} = {hasil}\")\n",
    "else:\n",
    "    print(\"operator tidak tersedia\")"
   ]
  }
 ],
 "metadata": {
  "kernelspec": {
   "display_name": "Python 3",
   "language": "python",
   "name": "python3"
  },
  "language_info": {
   "codemirror_mode": {
    "name": "ipython",
    "version": 3
   },
   "file_extension": ".py",
   "mimetype": "text/x-python",
   "name": "python",
   "nbconvert_exporter": "python",
   "pygments_lexer": "ipython3",
   "version": "3.12.2"
  }
 },
 "nbformat": 4,
 "nbformat_minor": 2
}
